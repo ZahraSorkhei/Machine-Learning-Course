{
  "nbformat": 4,
  "nbformat_minor": 0,
  "metadata": {
    "colab": {
      "provenance": []
    },
    "kernelspec": {
      "name": "python3",
      "display_name": "Python 3"
    },
    "language_info": {
      "name": "python"
    },
    "accelerator": "GPU",
    "gpuClass": "standard"
  },
  "cells": [
    {
      "cell_type": "markdown",
      "source": [
        "### Loading Dataset"
      ],
      "metadata": {
        "id": "dMvWNWxoUsWR"
      }
    },
    {
      "cell_type": "code",
      "execution_count": 1,
      "metadata": {
        "colab": {
          "base_uri": "https://localhost:8080/"
        },
        "id": "8EdXbRDN4Dg_",
        "outputId": "e91548e8-06a4-4e4d-e006-8cd0d5ebf9d6"
      },
      "outputs": [
        {
          "output_type": "stream",
          "name": "stdout",
          "text": [
            "Looking in indexes: https://pypi.org/simple, https://us-python.pkg.dev/colab-wheels/public/simple/\n",
            "Collecting opendatasets\n",
            "  Downloading opendatasets-0.1.22-py3-none-any.whl (15 kB)\n",
            "Requirement already satisfied: kaggle in /usr/local/lib/python3.8/dist-packages (from opendatasets) (1.5.12)\n",
            "Requirement already satisfied: tqdm in /usr/local/lib/python3.8/dist-packages (from opendatasets) (4.64.1)\n",
            "Requirement already satisfied: click in /usr/local/lib/python3.8/dist-packages (from opendatasets) (7.1.2)\n",
            "Requirement already satisfied: python-slugify in /usr/local/lib/python3.8/dist-packages (from kaggle->opendatasets) (8.0.0)\n",
            "Requirement already satisfied: six>=1.10 in /usr/local/lib/python3.8/dist-packages (from kaggle->opendatasets) (1.15.0)\n",
            "Requirement already satisfied: python-dateutil in /usr/local/lib/python3.8/dist-packages (from kaggle->opendatasets) (2.8.2)\n",
            "Requirement already satisfied: certifi in /usr/local/lib/python3.8/dist-packages (from kaggle->opendatasets) (2022.12.7)\n",
            "Requirement already satisfied: requests in /usr/local/lib/python3.8/dist-packages (from kaggle->opendatasets) (2.25.1)\n",
            "Requirement already satisfied: urllib3 in /usr/local/lib/python3.8/dist-packages (from kaggle->opendatasets) (1.24.3)\n",
            "Requirement already satisfied: text-unidecode>=1.3 in /usr/local/lib/python3.8/dist-packages (from python-slugify->kaggle->opendatasets) (1.3)\n",
            "Requirement already satisfied: chardet<5,>=3.0.2 in /usr/local/lib/python3.8/dist-packages (from requests->kaggle->opendatasets) (4.0.0)\n",
            "Requirement already satisfied: idna<3,>=2.5 in /usr/local/lib/python3.8/dist-packages (from requests->kaggle->opendatasets) (2.10)\n",
            "Installing collected packages: opendatasets\n",
            "Successfully installed opendatasets-0.1.22\n"
          ]
        }
      ],
      "source": [
        "!pip install opendatasets\n",
        "import opendatasets as od"
      ]
    },
    {
      "cell_type": "code",
      "source": [
        "username:\"zahrasorkhei\"\n",
        "key:\"0548e34bf61c0f9a1661511e47b029e6\"\n",
        "od.download(\n",
        "    'https://www.kaggle.com/datasets/odedgolden/movielens-1m-dataset/u.data')"
      ],
      "metadata": {
        "colab": {
          "base_uri": "https://localhost:8080/"
        },
        "id": "0-LX_UplF12a",
        "outputId": "653b3dea-554c-4d89-de46-66e4cd812763"
      },
      "execution_count": 2,
      "outputs": [
        {
          "output_type": "stream",
          "name": "stdout",
          "text": [
            "Please provide your Kaggle credentials to download this dataset. Learn more: http://bit.ly/kaggle-creds\n",
            "Your Kaggle username: zahrasorkhei\n",
            "Your Kaggle Key: ··········\n",
            "Downloading movielens-1m-dataset.zip to ./movielens-1m-dataset\n"
          ]
        },
        {
          "output_type": "stream",
          "name": "stderr",
          "text": [
            "100%|██████████| 5.83M/5.83M [00:00<00:00, 126MB/s]"
          ]
        },
        {
          "output_type": "stream",
          "name": "stdout",
          "text": [
            "\n"
          ]
        },
        {
          "output_type": "stream",
          "name": "stderr",
          "text": [
            "\n"
          ]
        }
      ]
    },
    {
      "cell_type": "code",
      "source": [
        "import pandas as pd\n",
        "# Make display smaller\n",
        "pd.options.display.max_rows = 10\n",
        "unames = ['user_id', 'gender', 'age', 'occupation', 'zip']\n",
        "users = pd.read_table('/content/movielens-1m-dataset/users.dat', sep='::',\n",
        " header=None, names=unames, engine='python')\n",
        "rnames = ['user_id', 'movie_id', 'rating', 'timestamp']\n",
        "ratings = pd.read_table('/content/movielens-1m-dataset/ratings.dat', sep='::',\n",
        " header=None, names=rnames, engine='python')\n",
        "mnames = ['movie_id', 'title', 'genres']\n",
        "movies = pd.read_table('/content/movielens-1m-dataset/movies.dat', sep='::',\n",
        " header=None, names=mnames, engine='python' , encoding=\"ISO-8859-1\")"
      ],
      "metadata": {
        "id": "I8zG6EQ7Fv5A"
      },
      "execution_count": 3,
      "outputs": []
    },
    {
      "cell_type": "markdown",
      "source": [
        "### Question 17"
      ],
      "metadata": {
        "id": "sEoV3WH_UTGO"
      }
    },
    {
      "cell_type": "code",
      "source": [
        "import numpy as np\n",
        "d = ratings['user_id'].value_counts()\n",
        "for i in d:\n",
        "  if(d[i]<20):\n",
        "    ratings.drop(ratings.index[ratings['user_id'] == i ], inplace = True)"
      ],
      "metadata": {
        "id": "p0WLa4AoBPvy"
      },
      "execution_count": 4,
      "outputs": []
    },
    {
      "cell_type": "markdown",
      "source": [
        "### Question 18, 19 and 20"
      ],
      "metadata": {
        "id": "UEfsr83HUaX2"
      }
    },
    {
      "cell_type": "code",
      "source": [
        "### Find X for some users\n",
        "def findX(ratings , users , movies , len_user_total , len_movie_total):\n",
        "  X = np.zeros((len_user_total, len_movie_total ))\n",
        "  for index, row in users.iterrows():\n",
        "    userID = row['user_id']\n",
        "    rateing_of_user = ratings.loc[ratings['user_id'] == userID]\n",
        "    for index2, row2 in rateing_of_user.iterrows():\n",
        "      X[userID-1 , row2['movie_id']-1] = row2['rating']\n",
        "  return X\n"
      ],
      "metadata": {
        "id": "hzotZQEewSkx"
      },
      "execution_count": 5,
      "outputs": []
    },
    {
      "cell_type": "code",
      "source": [
        "def training(X_train, lambda_ ):\n",
        "    G = X_train.T.dot(X_train)\n",
        "    #diagIndices = np.diag_indices(G.shape[0])\n",
        "    G += np.identity(G.shape[0])*lambda_\n",
        "    P = np.linalg.inv(G)\n",
        "    B = P / (-np.diag(P))\n",
        "    B = B - np.diag(np.diag(B))\n",
        "    return B\n"
      ],
      "metadata": {
        "id": "WITcfswE6LeM"
      },
      "execution_count": 6,
      "outputs": []
    },
    {
      "cell_type": "code",
      "source": [
        "def testing(X_test, B):\n",
        "  return X_test.dot(B)"
      ],
      "metadata": {
        "id": "Ynjn39Qx7rv3"
      },
      "execution_count": 7,
      "outputs": []
    },
    {
      "cell_type": "code",
      "source": [
        "from sklearn.metrics import r2_score\n",
        "from statistics import mean\n",
        "def cross_validation(ratings,users,movies):\n",
        "  best_lambda_ = 0\n",
        "  score_best = -1000\n",
        "  lambda_ = [0.5 , 100 , 500 , 1000 , 4000 , 7000 , 8000 , 10000]\n",
        "  Best_B = 0\n",
        "  len_user_total = users['user_id'].max()\n",
        "  len_movie_total = movies['movie_id'].max()\n",
        "  X = findX(ratings , users , movies , len_user_total , len_movie_total )\n",
        "  # Spliting to test and train part\n",
        "  X_train = X[:int(X.shape[0]*0.8),:]\n",
        "  X_test = X[int(X.shape[0]*0.8):,:]\n",
        "  for i in range(len(lambda_)):\n",
        "      print(\"\\n========================Step \",i)\n",
        "      XX = np.zeros((X_train.shape[0], X_train.shape[1] ))\n",
        "      # Shuffle the X randomly \n",
        "      np.take(X_train,np.random.permutation(X_train.shape[0]),axis=0,out=XX)\n",
        "      score = [] \n",
        "      for j in range(5):\n",
        "        # Split train_data to train and validation\n",
        "        idx_test = np.arange(0*XX.shape[0],int((0+1)*XX.shape[0]*0.2) ,1)\n",
        "        idx_train = list(set(np.arange(0,XX.shape[0] ,1)) - set(idx_test))\n",
        "        XX_train = XX[idx_train]\n",
        "        XX_test =XX[idx_test]\n",
        "        #Train and find Beta\n",
        "        B = training(XX_train, lambda_[i] )\n",
        "        #Test \n",
        "        X_test_prim = testing(XX_test, B)\n",
        "        #R2 score\n",
        "        score.append(r2_score(XX_test.flatten(), X_test_prim.flatten()))\n",
        "      print(mean(score))\n",
        "      if(mean(score) > score_best):\n",
        "        score_best = mean(score)\n",
        "        Best_B = B\n",
        "      print(\"Best score until step \",i,\" =\",score_best)\n",
        "  X_test_prim = testing(X_test, Best_B)\n",
        "  score_test = r2_score(X_test.flatten(), X_test_prim.flatten())\n",
        "  print(\"\\n\\nR2 score on test = \",score_test)\n",
        "  return best_lambda_ "
      ],
      "metadata": {
        "id": "2Gb-kZXECjJy"
      },
      "execution_count": 8,
      "outputs": []
    },
    {
      "cell_type": "code",
      "source": [
        "best_lambda_  = cross_validation(ratings,users,movies)"
      ],
      "metadata": {
        "colab": {
          "base_uri": "https://localhost:8080/"
        },
        "id": "DurkIFThGH-Z",
        "outputId": "839dc6e0-8037-4bbc-d4d2-9ad87fec18d5"
      },
      "execution_count": 9,
      "outputs": [
        {
          "output_type": "stream",
          "name": "stdout",
          "text": [
            "\n",
            "========================Step  0\n",
            "-3.8071266844592904\n",
            "Best score until step  0  = -3.8071266844592904\n",
            "\n",
            "========================Step  1\n",
            "0.06446683467641545\n",
            "Best score until step  1  = 0.06446683467641545\n",
            "\n",
            "========================Step  2\n",
            "0.2948144228705033\n",
            "Best score until step  2  = 0.2948144228705033\n",
            "\n",
            "========================Step  3\n",
            "0.36338273067573035\n",
            "Best score until step  3  = 0.36338273067573035\n",
            "\n",
            "========================Step  4\n",
            "0.41700347585911046\n",
            "Best score until step  4  = 0.41700347585911046\n",
            "\n",
            "========================Step  5\n",
            "0.4201962317947662\n",
            "Best score until step  5  = 0.4201962317947662\n",
            "\n",
            "========================Step  6\n",
            "0.41691183665639797\n",
            "Best score until step  6  = 0.4201962317947662\n",
            "\n",
            "========================Step  7\n",
            "0.4314461585481213\n",
            "Best score until step  7  = 0.4314461585481213\n",
            "\n",
            "\n",
            "R2 score on test =  0.39223001406583147\n"
          ]
        }
      ]
    }
  ]
}