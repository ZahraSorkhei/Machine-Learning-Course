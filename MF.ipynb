{
  "nbformat": 4,
  "nbformat_minor": 0,
  "metadata": {
    "colab": {
      "provenance": []
    },
    "kernelspec": {
      "name": "python3",
      "display_name": "Python 3"
    },
    "language_info": {
      "name": "python"
    },
    "accelerator": "GPU",
    "gpuClass": "premium",
    "widgets": {
      "application/vnd.jupyter.widget-state+json": {
        "c13e90aa143d488982c8f424072a3ace": {
          "model_module": "@jupyter-widgets/controls",
          "model_name": "HBoxModel",
          "model_module_version": "1.5.0",
          "state": {
            "_dom_classes": [],
            "_model_module": "@jupyter-widgets/controls",
            "_model_module_version": "1.5.0",
            "_model_name": "HBoxModel",
            "_view_count": null,
            "_view_module": "@jupyter-widgets/controls",
            "_view_module_version": "1.5.0",
            "_view_name": "HBoxView",
            "box_style": "",
            "children": [
              "IPY_MODEL_b3e664b8776c42d3b7dfb75314155f4c",
              "IPY_MODEL_dfde9f6bce174dcb9b3cbed691d45344",
              "IPY_MODEL_fb5ec7becd3e44579d1bcdc8d1894b16"
            ],
            "layout": "IPY_MODEL_9dd8b8717ab343108285fb33046484eb"
          }
        },
        "b3e664b8776c42d3b7dfb75314155f4c": {
          "model_module": "@jupyter-widgets/controls",
          "model_name": "HTMLModel",
          "model_module_version": "1.5.0",
          "state": {
            "_dom_classes": [],
            "_model_module": "@jupyter-widgets/controls",
            "_model_module_version": "1.5.0",
            "_model_name": "HTMLModel",
            "_view_count": null,
            "_view_module": "@jupyter-widgets/controls",
            "_view_module_version": "1.5.0",
            "_view_name": "HTMLView",
            "description": "",
            "description_tooltip": null,
            "layout": "IPY_MODEL_88c9be6e15694fd995c9c33c944875bf",
            "placeholder": "​",
            "style": "IPY_MODEL_ca9a242648d94912aefb5840d3b5cd30",
            "value": "100%"
          }
        },
        "dfde9f6bce174dcb9b3cbed691d45344": {
          "model_module": "@jupyter-widgets/controls",
          "model_name": "FloatProgressModel",
          "model_module_version": "1.5.0",
          "state": {
            "_dom_classes": [],
            "_model_module": "@jupyter-widgets/controls",
            "_model_module_version": "1.5.0",
            "_model_name": "FloatProgressModel",
            "_view_count": null,
            "_view_module": "@jupyter-widgets/controls",
            "_view_module_version": "1.5.0",
            "_view_name": "ProgressView",
            "bar_style": "success",
            "description": "",
            "description_tooltip": null,
            "layout": "IPY_MODEL_338a4f416d3c459d8519c2a002575b35",
            "max": 100,
            "min": 0,
            "orientation": "horizontal",
            "style": "IPY_MODEL_59796e93e5e546c69c4e5c84eef757a3",
            "value": 100
          }
        },
        "fb5ec7becd3e44579d1bcdc8d1894b16": {
          "model_module": "@jupyter-widgets/controls",
          "model_name": "HTMLModel",
          "model_module_version": "1.5.0",
          "state": {
            "_dom_classes": [],
            "_model_module": "@jupyter-widgets/controls",
            "_model_module_version": "1.5.0",
            "_model_name": "HTMLModel",
            "_view_count": null,
            "_view_module": "@jupyter-widgets/controls",
            "_view_module_version": "1.5.0",
            "_view_name": "HTMLView",
            "description": "",
            "description_tooltip": null,
            "layout": "IPY_MODEL_069e98f51e704c7c97a54c67741bbeb2",
            "placeholder": "​",
            "style": "IPY_MODEL_0118796d971f4f2fad82e1b09934f786",
            "value": " 100/100 [03:37&lt;00:00,  2.16s/it]"
          }
        },
        "9dd8b8717ab343108285fb33046484eb": {
          "model_module": "@jupyter-widgets/base",
          "model_name": "LayoutModel",
          "model_module_version": "1.2.0",
          "state": {
            "_model_module": "@jupyter-widgets/base",
            "_model_module_version": "1.2.0",
            "_model_name": "LayoutModel",
            "_view_count": null,
            "_view_module": "@jupyter-widgets/base",
            "_view_module_version": "1.2.0",
            "_view_name": "LayoutView",
            "align_content": null,
            "align_items": null,
            "align_self": null,
            "border": null,
            "bottom": null,
            "display": null,
            "flex": null,
            "flex_flow": null,
            "grid_area": null,
            "grid_auto_columns": null,
            "grid_auto_flow": null,
            "grid_auto_rows": null,
            "grid_column": null,
            "grid_gap": null,
            "grid_row": null,
            "grid_template_areas": null,
            "grid_template_columns": null,
            "grid_template_rows": null,
            "height": null,
            "justify_content": null,
            "justify_items": null,
            "left": null,
            "margin": null,
            "max_height": null,
            "max_width": null,
            "min_height": null,
            "min_width": null,
            "object_fit": null,
            "object_position": null,
            "order": null,
            "overflow": null,
            "overflow_x": null,
            "overflow_y": null,
            "padding": null,
            "right": null,
            "top": null,
            "visibility": null,
            "width": null
          }
        },
        "88c9be6e15694fd995c9c33c944875bf": {
          "model_module": "@jupyter-widgets/base",
          "model_name": "LayoutModel",
          "model_module_version": "1.2.0",
          "state": {
            "_model_module": "@jupyter-widgets/base",
            "_model_module_version": "1.2.0",
            "_model_name": "LayoutModel",
            "_view_count": null,
            "_view_module": "@jupyter-widgets/base",
            "_view_module_version": "1.2.0",
            "_view_name": "LayoutView",
            "align_content": null,
            "align_items": null,
            "align_self": null,
            "border": null,
            "bottom": null,
            "display": null,
            "flex": null,
            "flex_flow": null,
            "grid_area": null,
            "grid_auto_columns": null,
            "grid_auto_flow": null,
            "grid_auto_rows": null,
            "grid_column": null,
            "grid_gap": null,
            "grid_row": null,
            "grid_template_areas": null,
            "grid_template_columns": null,
            "grid_template_rows": null,
            "height": null,
            "justify_content": null,
            "justify_items": null,
            "left": null,
            "margin": null,
            "max_height": null,
            "max_width": null,
            "min_height": null,
            "min_width": null,
            "object_fit": null,
            "object_position": null,
            "order": null,
            "overflow": null,
            "overflow_x": null,
            "overflow_y": null,
            "padding": null,
            "right": null,
            "top": null,
            "visibility": null,
            "width": null
          }
        },
        "ca9a242648d94912aefb5840d3b5cd30": {
          "model_module": "@jupyter-widgets/controls",
          "model_name": "DescriptionStyleModel",
          "model_module_version": "1.5.0",
          "state": {
            "_model_module": "@jupyter-widgets/controls",
            "_model_module_version": "1.5.0",
            "_model_name": "DescriptionStyleModel",
            "_view_count": null,
            "_view_module": "@jupyter-widgets/base",
            "_view_module_version": "1.2.0",
            "_view_name": "StyleView",
            "description_width": ""
          }
        },
        "338a4f416d3c459d8519c2a002575b35": {
          "model_module": "@jupyter-widgets/base",
          "model_name": "LayoutModel",
          "model_module_version": "1.2.0",
          "state": {
            "_model_module": "@jupyter-widgets/base",
            "_model_module_version": "1.2.0",
            "_model_name": "LayoutModel",
            "_view_count": null,
            "_view_module": "@jupyter-widgets/base",
            "_view_module_version": "1.2.0",
            "_view_name": "LayoutView",
            "align_content": null,
            "align_items": null,
            "align_self": null,
            "border": null,
            "bottom": null,
            "display": null,
            "flex": null,
            "flex_flow": null,
            "grid_area": null,
            "grid_auto_columns": null,
            "grid_auto_flow": null,
            "grid_auto_rows": null,
            "grid_column": null,
            "grid_gap": null,
            "grid_row": null,
            "grid_template_areas": null,
            "grid_template_columns": null,
            "grid_template_rows": null,
            "height": null,
            "justify_content": null,
            "justify_items": null,
            "left": null,
            "margin": null,
            "max_height": null,
            "max_width": null,
            "min_height": null,
            "min_width": null,
            "object_fit": null,
            "object_position": null,
            "order": null,
            "overflow": null,
            "overflow_x": null,
            "overflow_y": null,
            "padding": null,
            "right": null,
            "top": null,
            "visibility": null,
            "width": null
          }
        },
        "59796e93e5e546c69c4e5c84eef757a3": {
          "model_module": "@jupyter-widgets/controls",
          "model_name": "ProgressStyleModel",
          "model_module_version": "1.5.0",
          "state": {
            "_model_module": "@jupyter-widgets/controls",
            "_model_module_version": "1.5.0",
            "_model_name": "ProgressStyleModel",
            "_view_count": null,
            "_view_module": "@jupyter-widgets/base",
            "_view_module_version": "1.2.0",
            "_view_name": "StyleView",
            "bar_color": null,
            "description_width": ""
          }
        },
        "069e98f51e704c7c97a54c67741bbeb2": {
          "model_module": "@jupyter-widgets/base",
          "model_name": "LayoutModel",
          "model_module_version": "1.2.0",
          "state": {
            "_model_module": "@jupyter-widgets/base",
            "_model_module_version": "1.2.0",
            "_model_name": "LayoutModel",
            "_view_count": null,
            "_view_module": "@jupyter-widgets/base",
            "_view_module_version": "1.2.0",
            "_view_name": "LayoutView",
            "align_content": null,
            "align_items": null,
            "align_self": null,
            "border": null,
            "bottom": null,
            "display": null,
            "flex": null,
            "flex_flow": null,
            "grid_area": null,
            "grid_auto_columns": null,
            "grid_auto_flow": null,
            "grid_auto_rows": null,
            "grid_column": null,
            "grid_gap": null,
            "grid_row": null,
            "grid_template_areas": null,
            "grid_template_columns": null,
            "grid_template_rows": null,
            "height": null,
            "justify_content": null,
            "justify_items": null,
            "left": null,
            "margin": null,
            "max_height": null,
            "max_width": null,
            "min_height": null,
            "min_width": null,
            "object_fit": null,
            "object_position": null,
            "order": null,
            "overflow": null,
            "overflow_x": null,
            "overflow_y": null,
            "padding": null,
            "right": null,
            "top": null,
            "visibility": null,
            "width": null
          }
        },
        "0118796d971f4f2fad82e1b09934f786": {
          "model_module": "@jupyter-widgets/controls",
          "model_name": "DescriptionStyleModel",
          "model_module_version": "1.5.0",
          "state": {
            "_model_module": "@jupyter-widgets/controls",
            "_model_module_version": "1.5.0",
            "_model_name": "DescriptionStyleModel",
            "_view_count": null,
            "_view_module": "@jupyter-widgets/base",
            "_view_module_version": "1.2.0",
            "_view_name": "StyleView",
            "description_width": ""
          }
        },
        "51d55d6243da46468b6525a6c21a12eb": {
          "model_module": "@jupyter-widgets/controls",
          "model_name": "HBoxModel",
          "model_module_version": "1.5.0",
          "state": {
            "_dom_classes": [],
            "_model_module": "@jupyter-widgets/controls",
            "_model_module_version": "1.5.0",
            "_model_name": "HBoxModel",
            "_view_count": null,
            "_view_module": "@jupyter-widgets/controls",
            "_view_module_version": "1.5.0",
            "_view_name": "HBoxView",
            "box_style": "",
            "children": [
              "IPY_MODEL_aefc4efecb91470a9d21ff40595cc8fd",
              "IPY_MODEL_b2a50a2fb37e4a018844e911f0c5c075",
              "IPY_MODEL_1beb96d633b44b98bf1c4d7d51153633"
            ],
            "layout": "IPY_MODEL_4f32ac676f3f4c40b8d88831d1d1a4c0"
          }
        },
        "aefc4efecb91470a9d21ff40595cc8fd": {
          "model_module": "@jupyter-widgets/controls",
          "model_name": "HTMLModel",
          "model_module_version": "1.5.0",
          "state": {
            "_dom_classes": [],
            "_model_module": "@jupyter-widgets/controls",
            "_model_module_version": "1.5.0",
            "_model_name": "HTMLModel",
            "_view_count": null,
            "_view_module": "@jupyter-widgets/controls",
            "_view_module_version": "1.5.0",
            "_view_name": "HTMLView",
            "description": "",
            "description_tooltip": null,
            "layout": "IPY_MODEL_56f4c4f70dfb4d62a932ce02b4cfd14c",
            "placeholder": "​",
            "style": "IPY_MODEL_f8dd733881be4fe8900bb0ee105878b8",
            "value": "100%"
          }
        },
        "b2a50a2fb37e4a018844e911f0c5c075": {
          "model_module": "@jupyter-widgets/controls",
          "model_name": "FloatProgressModel",
          "model_module_version": "1.5.0",
          "state": {
            "_dom_classes": [],
            "_model_module": "@jupyter-widgets/controls",
            "_model_module_version": "1.5.0",
            "_model_name": "FloatProgressModel",
            "_view_count": null,
            "_view_module": "@jupyter-widgets/controls",
            "_view_module_version": "1.5.0",
            "_view_name": "ProgressView",
            "bar_style": "success",
            "description": "",
            "description_tooltip": null,
            "layout": "IPY_MODEL_f2a45321da8c43dfad37199916d84ee6",
            "max": 100,
            "min": 0,
            "orientation": "horizontal",
            "style": "IPY_MODEL_3e4dcbd5cddf4ff48fe5bb6cb625d590",
            "value": 100
          }
        },
        "1beb96d633b44b98bf1c4d7d51153633": {
          "model_module": "@jupyter-widgets/controls",
          "model_name": "HTMLModel",
          "model_module_version": "1.5.0",
          "state": {
            "_dom_classes": [],
            "_model_module": "@jupyter-widgets/controls",
            "_model_module_version": "1.5.0",
            "_model_name": "HTMLModel",
            "_view_count": null,
            "_view_module": "@jupyter-widgets/controls",
            "_view_module_version": "1.5.0",
            "_view_name": "HTMLView",
            "description": "",
            "description_tooltip": null,
            "layout": "IPY_MODEL_337c0ad690f34b52bff3107a61665acc",
            "placeholder": "​",
            "style": "IPY_MODEL_f866a56a414f4809a05c88c6fa5ddef8",
            "value": " 100/100 [03:27&lt;00:00,  2.07s/it]"
          }
        },
        "4f32ac676f3f4c40b8d88831d1d1a4c0": {
          "model_module": "@jupyter-widgets/base",
          "model_name": "LayoutModel",
          "model_module_version": "1.2.0",
          "state": {
            "_model_module": "@jupyter-widgets/base",
            "_model_module_version": "1.2.0",
            "_model_name": "LayoutModel",
            "_view_count": null,
            "_view_module": "@jupyter-widgets/base",
            "_view_module_version": "1.2.0",
            "_view_name": "LayoutView",
            "align_content": null,
            "align_items": null,
            "align_self": null,
            "border": null,
            "bottom": null,
            "display": null,
            "flex": null,
            "flex_flow": null,
            "grid_area": null,
            "grid_auto_columns": null,
            "grid_auto_flow": null,
            "grid_auto_rows": null,
            "grid_column": null,
            "grid_gap": null,
            "grid_row": null,
            "grid_template_areas": null,
            "grid_template_columns": null,
            "grid_template_rows": null,
            "height": null,
            "justify_content": null,
            "justify_items": null,
            "left": null,
            "margin": null,
            "max_height": null,
            "max_width": null,
            "min_height": null,
            "min_width": null,
            "object_fit": null,
            "object_position": null,
            "order": null,
            "overflow": null,
            "overflow_x": null,
            "overflow_y": null,
            "padding": null,
            "right": null,
            "top": null,
            "visibility": null,
            "width": null
          }
        },
        "56f4c4f70dfb4d62a932ce02b4cfd14c": {
          "model_module": "@jupyter-widgets/base",
          "model_name": "LayoutModel",
          "model_module_version": "1.2.0",
          "state": {
            "_model_module": "@jupyter-widgets/base",
            "_model_module_version": "1.2.0",
            "_model_name": "LayoutModel",
            "_view_count": null,
            "_view_module": "@jupyter-widgets/base",
            "_view_module_version": "1.2.0",
            "_view_name": "LayoutView",
            "align_content": null,
            "align_items": null,
            "align_self": null,
            "border": null,
            "bottom": null,
            "display": null,
            "flex": null,
            "flex_flow": null,
            "grid_area": null,
            "grid_auto_columns": null,
            "grid_auto_flow": null,
            "grid_auto_rows": null,
            "grid_column": null,
            "grid_gap": null,
            "grid_row": null,
            "grid_template_areas": null,
            "grid_template_columns": null,
            "grid_template_rows": null,
            "height": null,
            "justify_content": null,
            "justify_items": null,
            "left": null,
            "margin": null,
            "max_height": null,
            "max_width": null,
            "min_height": null,
            "min_width": null,
            "object_fit": null,
            "object_position": null,
            "order": null,
            "overflow": null,
            "overflow_x": null,
            "overflow_y": null,
            "padding": null,
            "right": null,
            "top": null,
            "visibility": null,
            "width": null
          }
        },
        "f8dd733881be4fe8900bb0ee105878b8": {
          "model_module": "@jupyter-widgets/controls",
          "model_name": "DescriptionStyleModel",
          "model_module_version": "1.5.0",
          "state": {
            "_model_module": "@jupyter-widgets/controls",
            "_model_module_version": "1.5.0",
            "_model_name": "DescriptionStyleModel",
            "_view_count": null,
            "_view_module": "@jupyter-widgets/base",
            "_view_module_version": "1.2.0",
            "_view_name": "StyleView",
            "description_width": ""
          }
        },
        "f2a45321da8c43dfad37199916d84ee6": {
          "model_module": "@jupyter-widgets/base",
          "model_name": "LayoutModel",
          "model_module_version": "1.2.0",
          "state": {
            "_model_module": "@jupyter-widgets/base",
            "_model_module_version": "1.2.0",
            "_model_name": "LayoutModel",
            "_view_count": null,
            "_view_module": "@jupyter-widgets/base",
            "_view_module_version": "1.2.0",
            "_view_name": "LayoutView",
            "align_content": null,
            "align_items": null,
            "align_self": null,
            "border": null,
            "bottom": null,
            "display": null,
            "flex": null,
            "flex_flow": null,
            "grid_area": null,
            "grid_auto_columns": null,
            "grid_auto_flow": null,
            "grid_auto_rows": null,
            "grid_column": null,
            "grid_gap": null,
            "grid_row": null,
            "grid_template_areas": null,
            "grid_template_columns": null,
            "grid_template_rows": null,
            "height": null,
            "justify_content": null,
            "justify_items": null,
            "left": null,
            "margin": null,
            "max_height": null,
            "max_width": null,
            "min_height": null,
            "min_width": null,
            "object_fit": null,
            "object_position": null,
            "order": null,
            "overflow": null,
            "overflow_x": null,
            "overflow_y": null,
            "padding": null,
            "right": null,
            "top": null,
            "visibility": null,
            "width": null
          }
        },
        "3e4dcbd5cddf4ff48fe5bb6cb625d590": {
          "model_module": "@jupyter-widgets/controls",
          "model_name": "ProgressStyleModel",
          "model_module_version": "1.5.0",
          "state": {
            "_model_module": "@jupyter-widgets/controls",
            "_model_module_version": "1.5.0",
            "_model_name": "ProgressStyleModel",
            "_view_count": null,
            "_view_module": "@jupyter-widgets/base",
            "_view_module_version": "1.2.0",
            "_view_name": "StyleView",
            "bar_color": null,
            "description_width": ""
          }
        },
        "337c0ad690f34b52bff3107a61665acc": {
          "model_module": "@jupyter-widgets/base",
          "model_name": "LayoutModel",
          "model_module_version": "1.2.0",
          "state": {
            "_model_module": "@jupyter-widgets/base",
            "_model_module_version": "1.2.0",
            "_model_name": "LayoutModel",
            "_view_count": null,
            "_view_module": "@jupyter-widgets/base",
            "_view_module_version": "1.2.0",
            "_view_name": "LayoutView",
            "align_content": null,
            "align_items": null,
            "align_self": null,
            "border": null,
            "bottom": null,
            "display": null,
            "flex": null,
            "flex_flow": null,
            "grid_area": null,
            "grid_auto_columns": null,
            "grid_auto_flow": null,
            "grid_auto_rows": null,
            "grid_column": null,
            "grid_gap": null,
            "grid_row": null,
            "grid_template_areas": null,
            "grid_template_columns": null,
            "grid_template_rows": null,
            "height": null,
            "justify_content": null,
            "justify_items": null,
            "left": null,
            "margin": null,
            "max_height": null,
            "max_width": null,
            "min_height": null,
            "min_width": null,
            "object_fit": null,
            "object_position": null,
            "order": null,
            "overflow": null,
            "overflow_x": null,
            "overflow_y": null,
            "padding": null,
            "right": null,
            "top": null,
            "visibility": null,
            "width": null
          }
        },
        "f866a56a414f4809a05c88c6fa5ddef8": {
          "model_module": "@jupyter-widgets/controls",
          "model_name": "DescriptionStyleModel",
          "model_module_version": "1.5.0",
          "state": {
            "_model_module": "@jupyter-widgets/controls",
            "_model_module_version": "1.5.0",
            "_model_name": "DescriptionStyleModel",
            "_view_count": null,
            "_view_module": "@jupyter-widgets/base",
            "_view_module_version": "1.2.0",
            "_view_name": "StyleView",
            "description_width": ""
          }
        },
        "3f02459c982c465aa1dff964ae2e2299": {
          "model_module": "@jupyter-widgets/controls",
          "model_name": "HBoxModel",
          "model_module_version": "1.5.0",
          "state": {
            "_dom_classes": [],
            "_model_module": "@jupyter-widgets/controls",
            "_model_module_version": "1.5.0",
            "_model_name": "HBoxModel",
            "_view_count": null,
            "_view_module": "@jupyter-widgets/controls",
            "_view_module_version": "1.5.0",
            "_view_name": "HBoxView",
            "box_style": "",
            "children": [
              "IPY_MODEL_a7281d7d12e543729eb734d3cd854b57",
              "IPY_MODEL_40cba2e3280841919e9a40f76bfd5fcf",
              "IPY_MODEL_2b4ccedc87204ef49fd4ea2fc69157d6"
            ],
            "layout": "IPY_MODEL_0c37a44774694832a530b52550a01b1f"
          }
        },
        "a7281d7d12e543729eb734d3cd854b57": {
          "model_module": "@jupyter-widgets/controls",
          "model_name": "HTMLModel",
          "model_module_version": "1.5.0",
          "state": {
            "_dom_classes": [],
            "_model_module": "@jupyter-widgets/controls",
            "_model_module_version": "1.5.0",
            "_model_name": "HTMLModel",
            "_view_count": null,
            "_view_module": "@jupyter-widgets/controls",
            "_view_module_version": "1.5.0",
            "_view_name": "HTMLView",
            "description": "",
            "description_tooltip": null,
            "layout": "IPY_MODEL_955eda8d06bf40d880af2af3d9c5b3ad",
            "placeholder": "​",
            "style": "IPY_MODEL_ac27b56035dd4694b3024eb8d5a225e6",
            "value": "100%"
          }
        },
        "40cba2e3280841919e9a40f76bfd5fcf": {
          "model_module": "@jupyter-widgets/controls",
          "model_name": "FloatProgressModel",
          "model_module_version": "1.5.0",
          "state": {
            "_dom_classes": [],
            "_model_module": "@jupyter-widgets/controls",
            "_model_module_version": "1.5.0",
            "_model_name": "FloatProgressModel",
            "_view_count": null,
            "_view_module": "@jupyter-widgets/controls",
            "_view_module_version": "1.5.0",
            "_view_name": "ProgressView",
            "bar_style": "success",
            "description": "",
            "description_tooltip": null,
            "layout": "IPY_MODEL_300e5d91d0ba497c968d53172a0ee438",
            "max": 100,
            "min": 0,
            "orientation": "horizontal",
            "style": "IPY_MODEL_b9a80a64a44248e99a484af0d1cafe82",
            "value": 100
          }
        },
        "2b4ccedc87204ef49fd4ea2fc69157d6": {
          "model_module": "@jupyter-widgets/controls",
          "model_name": "HTMLModel",
          "model_module_version": "1.5.0",
          "state": {
            "_dom_classes": [],
            "_model_module": "@jupyter-widgets/controls",
            "_model_module_version": "1.5.0",
            "_model_name": "HTMLModel",
            "_view_count": null,
            "_view_module": "@jupyter-widgets/controls",
            "_view_module_version": "1.5.0",
            "_view_name": "HTMLView",
            "description": "",
            "description_tooltip": null,
            "layout": "IPY_MODEL_f843383b91b44248be12cb36e8057ed1",
            "placeholder": "​",
            "style": "IPY_MODEL_4aaec882909045c3acbf50d7cded4106",
            "value": " 100/100 [03:44&lt;00:00,  2.25s/it]"
          }
        },
        "0c37a44774694832a530b52550a01b1f": {
          "model_module": "@jupyter-widgets/base",
          "model_name": "LayoutModel",
          "model_module_version": "1.2.0",
          "state": {
            "_model_module": "@jupyter-widgets/base",
            "_model_module_version": "1.2.0",
            "_model_name": "LayoutModel",
            "_view_count": null,
            "_view_module": "@jupyter-widgets/base",
            "_view_module_version": "1.2.0",
            "_view_name": "LayoutView",
            "align_content": null,
            "align_items": null,
            "align_self": null,
            "border": null,
            "bottom": null,
            "display": null,
            "flex": null,
            "flex_flow": null,
            "grid_area": null,
            "grid_auto_columns": null,
            "grid_auto_flow": null,
            "grid_auto_rows": null,
            "grid_column": null,
            "grid_gap": null,
            "grid_row": null,
            "grid_template_areas": null,
            "grid_template_columns": null,
            "grid_template_rows": null,
            "height": null,
            "justify_content": null,
            "justify_items": null,
            "left": null,
            "margin": null,
            "max_height": null,
            "max_width": null,
            "min_height": null,
            "min_width": null,
            "object_fit": null,
            "object_position": null,
            "order": null,
            "overflow": null,
            "overflow_x": null,
            "overflow_y": null,
            "padding": null,
            "right": null,
            "top": null,
            "visibility": null,
            "width": null
          }
        },
        "955eda8d06bf40d880af2af3d9c5b3ad": {
          "model_module": "@jupyter-widgets/base",
          "model_name": "LayoutModel",
          "model_module_version": "1.2.0",
          "state": {
            "_model_module": "@jupyter-widgets/base",
            "_model_module_version": "1.2.0",
            "_model_name": "LayoutModel",
            "_view_count": null,
            "_view_module": "@jupyter-widgets/base",
            "_view_module_version": "1.2.0",
            "_view_name": "LayoutView",
            "align_content": null,
            "align_items": null,
            "align_self": null,
            "border": null,
            "bottom": null,
            "display": null,
            "flex": null,
            "flex_flow": null,
            "grid_area": null,
            "grid_auto_columns": null,
            "grid_auto_flow": null,
            "grid_auto_rows": null,
            "grid_column": null,
            "grid_gap": null,
            "grid_row": null,
            "grid_template_areas": null,
            "grid_template_columns": null,
            "grid_template_rows": null,
            "height": null,
            "justify_content": null,
            "justify_items": null,
            "left": null,
            "margin": null,
            "max_height": null,
            "max_width": null,
            "min_height": null,
            "min_width": null,
            "object_fit": null,
            "object_position": null,
            "order": null,
            "overflow": null,
            "overflow_x": null,
            "overflow_y": null,
            "padding": null,
            "right": null,
            "top": null,
            "visibility": null,
            "width": null
          }
        },
        "ac27b56035dd4694b3024eb8d5a225e6": {
          "model_module": "@jupyter-widgets/controls",
          "model_name": "DescriptionStyleModel",
          "model_module_version": "1.5.0",
          "state": {
            "_model_module": "@jupyter-widgets/controls",
            "_model_module_version": "1.5.0",
            "_model_name": "DescriptionStyleModel",
            "_view_count": null,
            "_view_module": "@jupyter-widgets/base",
            "_view_module_version": "1.2.0",
            "_view_name": "StyleView",
            "description_width": ""
          }
        },
        "300e5d91d0ba497c968d53172a0ee438": {
          "model_module": "@jupyter-widgets/base",
          "model_name": "LayoutModel",
          "model_module_version": "1.2.0",
          "state": {
            "_model_module": "@jupyter-widgets/base",
            "_model_module_version": "1.2.0",
            "_model_name": "LayoutModel",
            "_view_count": null,
            "_view_module": "@jupyter-widgets/base",
            "_view_module_version": "1.2.0",
            "_view_name": "LayoutView",
            "align_content": null,
            "align_items": null,
            "align_self": null,
            "border": null,
            "bottom": null,
            "display": null,
            "flex": null,
            "flex_flow": null,
            "grid_area": null,
            "grid_auto_columns": null,
            "grid_auto_flow": null,
            "grid_auto_rows": null,
            "grid_column": null,
            "grid_gap": null,
            "grid_row": null,
            "grid_template_areas": null,
            "grid_template_columns": null,
            "grid_template_rows": null,
            "height": null,
            "justify_content": null,
            "justify_items": null,
            "left": null,
            "margin": null,
            "max_height": null,
            "max_width": null,
            "min_height": null,
            "min_width": null,
            "object_fit": null,
            "object_position": null,
            "order": null,
            "overflow": null,
            "overflow_x": null,
            "overflow_y": null,
            "padding": null,
            "right": null,
            "top": null,
            "visibility": null,
            "width": null
          }
        },
        "b9a80a64a44248e99a484af0d1cafe82": {
          "model_module": "@jupyter-widgets/controls",
          "model_name": "ProgressStyleModel",
          "model_module_version": "1.5.0",
          "state": {
            "_model_module": "@jupyter-widgets/controls",
            "_model_module_version": "1.5.0",
            "_model_name": "ProgressStyleModel",
            "_view_count": null,
            "_view_module": "@jupyter-widgets/base",
            "_view_module_version": "1.2.0",
            "_view_name": "StyleView",
            "bar_color": null,
            "description_width": ""
          }
        },
        "f843383b91b44248be12cb36e8057ed1": {
          "model_module": "@jupyter-widgets/base",
          "model_name": "LayoutModel",
          "model_module_version": "1.2.0",
          "state": {
            "_model_module": "@jupyter-widgets/base",
            "_model_module_version": "1.2.0",
            "_model_name": "LayoutModel",
            "_view_count": null,
            "_view_module": "@jupyter-widgets/base",
            "_view_module_version": "1.2.0",
            "_view_name": "LayoutView",
            "align_content": null,
            "align_items": null,
            "align_self": null,
            "border": null,
            "bottom": null,
            "display": null,
            "flex": null,
            "flex_flow": null,
            "grid_area": null,
            "grid_auto_columns": null,
            "grid_auto_flow": null,
            "grid_auto_rows": null,
            "grid_column": null,
            "grid_gap": null,
            "grid_row": null,
            "grid_template_areas": null,
            "grid_template_columns": null,
            "grid_template_rows": null,
            "height": null,
            "justify_content": null,
            "justify_items": null,
            "left": null,
            "margin": null,
            "max_height": null,
            "max_width": null,
            "min_height": null,
            "min_width": null,
            "object_fit": null,
            "object_position": null,
            "order": null,
            "overflow": null,
            "overflow_x": null,
            "overflow_y": null,
            "padding": null,
            "right": null,
            "top": null,
            "visibility": null,
            "width": null
          }
        },
        "4aaec882909045c3acbf50d7cded4106": {
          "model_module": "@jupyter-widgets/controls",
          "model_name": "DescriptionStyleModel",
          "model_module_version": "1.5.0",
          "state": {
            "_model_module": "@jupyter-widgets/controls",
            "_model_module_version": "1.5.0",
            "_model_name": "DescriptionStyleModel",
            "_view_count": null,
            "_view_module": "@jupyter-widgets/base",
            "_view_module_version": "1.2.0",
            "_view_name": "StyleView",
            "description_width": ""
          }
        },
        "7a9bf0676a514bafb66764d44d74d584": {
          "model_module": "@jupyter-widgets/controls",
          "model_name": "HBoxModel",
          "model_module_version": "1.5.0",
          "state": {
            "_dom_classes": [],
            "_model_module": "@jupyter-widgets/controls",
            "_model_module_version": "1.5.0",
            "_model_name": "HBoxModel",
            "_view_count": null,
            "_view_module": "@jupyter-widgets/controls",
            "_view_module_version": "1.5.0",
            "_view_name": "HBoxView",
            "box_style": "",
            "children": [
              "IPY_MODEL_19549b4ff0b449e3b2eaa900cd78fa1e",
              "IPY_MODEL_b57ebd8f043247beafe192cc9cad3f8b",
              "IPY_MODEL_cbc5692258ca4fa49f43e233d92211af"
            ],
            "layout": "IPY_MODEL_ca2fe2c0fd7d402e9e8c15ce94b5f859"
          }
        },
        "19549b4ff0b449e3b2eaa900cd78fa1e": {
          "model_module": "@jupyter-widgets/controls",
          "model_name": "HTMLModel",
          "model_module_version": "1.5.0",
          "state": {
            "_dom_classes": [],
            "_model_module": "@jupyter-widgets/controls",
            "_model_module_version": "1.5.0",
            "_model_name": "HTMLModel",
            "_view_count": null,
            "_view_module": "@jupyter-widgets/controls",
            "_view_module_version": "1.5.0",
            "_view_name": "HTMLView",
            "description": "",
            "description_tooltip": null,
            "layout": "IPY_MODEL_95fabd9f0fc04fc5bbbfadb7ec56cb2c",
            "placeholder": "​",
            "style": "IPY_MODEL_09e85a4b40ab4cc4a1872dc518eedbee",
            "value": "100%"
          }
        },
        "b57ebd8f043247beafe192cc9cad3f8b": {
          "model_module": "@jupyter-widgets/controls",
          "model_name": "FloatProgressModel",
          "model_module_version": "1.5.0",
          "state": {
            "_dom_classes": [],
            "_model_module": "@jupyter-widgets/controls",
            "_model_module_version": "1.5.0",
            "_model_name": "FloatProgressModel",
            "_view_count": null,
            "_view_module": "@jupyter-widgets/controls",
            "_view_module_version": "1.5.0",
            "_view_name": "ProgressView",
            "bar_style": "success",
            "description": "",
            "description_tooltip": null,
            "layout": "IPY_MODEL_895a50d4179d411590ce9027f1df9921",
            "max": 100,
            "min": 0,
            "orientation": "horizontal",
            "style": "IPY_MODEL_f4f8191393894f058cb888bfa3f16a06",
            "value": 100
          }
        },
        "cbc5692258ca4fa49f43e233d92211af": {
          "model_module": "@jupyter-widgets/controls",
          "model_name": "HTMLModel",
          "model_module_version": "1.5.0",
          "state": {
            "_dom_classes": [],
            "_model_module": "@jupyter-widgets/controls",
            "_model_module_version": "1.5.0",
            "_model_name": "HTMLModel",
            "_view_count": null,
            "_view_module": "@jupyter-widgets/controls",
            "_view_module_version": "1.5.0",
            "_view_name": "HTMLView",
            "description": "",
            "description_tooltip": null,
            "layout": "IPY_MODEL_909d48f4d1b746499129a2ffecd68645",
            "placeholder": "​",
            "style": "IPY_MODEL_1ddeeddc33d64296bbbf48499d7d48e9",
            "value": " 100/100 [03:44&lt;00:00,  2.21s/it]"
          }
        },
        "ca2fe2c0fd7d402e9e8c15ce94b5f859": {
          "model_module": "@jupyter-widgets/base",
          "model_name": "LayoutModel",
          "model_module_version": "1.2.0",
          "state": {
            "_model_module": "@jupyter-widgets/base",
            "_model_module_version": "1.2.0",
            "_model_name": "LayoutModel",
            "_view_count": null,
            "_view_module": "@jupyter-widgets/base",
            "_view_module_version": "1.2.0",
            "_view_name": "LayoutView",
            "align_content": null,
            "align_items": null,
            "align_self": null,
            "border": null,
            "bottom": null,
            "display": null,
            "flex": null,
            "flex_flow": null,
            "grid_area": null,
            "grid_auto_columns": null,
            "grid_auto_flow": null,
            "grid_auto_rows": null,
            "grid_column": null,
            "grid_gap": null,
            "grid_row": null,
            "grid_template_areas": null,
            "grid_template_columns": null,
            "grid_template_rows": null,
            "height": null,
            "justify_content": null,
            "justify_items": null,
            "left": null,
            "margin": null,
            "max_height": null,
            "max_width": null,
            "min_height": null,
            "min_width": null,
            "object_fit": null,
            "object_position": null,
            "order": null,
            "overflow": null,
            "overflow_x": null,
            "overflow_y": null,
            "padding": null,
            "right": null,
            "top": null,
            "visibility": null,
            "width": null
          }
        },
        "95fabd9f0fc04fc5bbbfadb7ec56cb2c": {
          "model_module": "@jupyter-widgets/base",
          "model_name": "LayoutModel",
          "model_module_version": "1.2.0",
          "state": {
            "_model_module": "@jupyter-widgets/base",
            "_model_module_version": "1.2.0",
            "_model_name": "LayoutModel",
            "_view_count": null,
            "_view_module": "@jupyter-widgets/base",
            "_view_module_version": "1.2.0",
            "_view_name": "LayoutView",
            "align_content": null,
            "align_items": null,
            "align_self": null,
            "border": null,
            "bottom": null,
            "display": null,
            "flex": null,
            "flex_flow": null,
            "grid_area": null,
            "grid_auto_columns": null,
            "grid_auto_flow": null,
            "grid_auto_rows": null,
            "grid_column": null,
            "grid_gap": null,
            "grid_row": null,
            "grid_template_areas": null,
            "grid_template_columns": null,
            "grid_template_rows": null,
            "height": null,
            "justify_content": null,
            "justify_items": null,
            "left": null,
            "margin": null,
            "max_height": null,
            "max_width": null,
            "min_height": null,
            "min_width": null,
            "object_fit": null,
            "object_position": null,
            "order": null,
            "overflow": null,
            "overflow_x": null,
            "overflow_y": null,
            "padding": null,
            "right": null,
            "top": null,
            "visibility": null,
            "width": null
          }
        },
        "09e85a4b40ab4cc4a1872dc518eedbee": {
          "model_module": "@jupyter-widgets/controls",
          "model_name": "DescriptionStyleModel",
          "model_module_version": "1.5.0",
          "state": {
            "_model_module": "@jupyter-widgets/controls",
            "_model_module_version": "1.5.0",
            "_model_name": "DescriptionStyleModel",
            "_view_count": null,
            "_view_module": "@jupyter-widgets/base",
            "_view_module_version": "1.2.0",
            "_view_name": "StyleView",
            "description_width": ""
          }
        },
        "895a50d4179d411590ce9027f1df9921": {
          "model_module": "@jupyter-widgets/base",
          "model_name": "LayoutModel",
          "model_module_version": "1.2.0",
          "state": {
            "_model_module": "@jupyter-widgets/base",
            "_model_module_version": "1.2.0",
            "_model_name": "LayoutModel",
            "_view_count": null,
            "_view_module": "@jupyter-widgets/base",
            "_view_module_version": "1.2.0",
            "_view_name": "LayoutView",
            "align_content": null,
            "align_items": null,
            "align_self": null,
            "border": null,
            "bottom": null,
            "display": null,
            "flex": null,
            "flex_flow": null,
            "grid_area": null,
            "grid_auto_columns": null,
            "grid_auto_flow": null,
            "grid_auto_rows": null,
            "grid_column": null,
            "grid_gap": null,
            "grid_row": null,
            "grid_template_areas": null,
            "grid_template_columns": null,
            "grid_template_rows": null,
            "height": null,
            "justify_content": null,
            "justify_items": null,
            "left": null,
            "margin": null,
            "max_height": null,
            "max_width": null,
            "min_height": null,
            "min_width": null,
            "object_fit": null,
            "object_position": null,
            "order": null,
            "overflow": null,
            "overflow_x": null,
            "overflow_y": null,
            "padding": null,
            "right": null,
            "top": null,
            "visibility": null,
            "width": null
          }
        },
        "f4f8191393894f058cb888bfa3f16a06": {
          "model_module": "@jupyter-widgets/controls",
          "model_name": "ProgressStyleModel",
          "model_module_version": "1.5.0",
          "state": {
            "_model_module": "@jupyter-widgets/controls",
            "_model_module_version": "1.5.0",
            "_model_name": "ProgressStyleModel",
            "_view_count": null,
            "_view_module": "@jupyter-widgets/base",
            "_view_module_version": "1.2.0",
            "_view_name": "StyleView",
            "bar_color": null,
            "description_width": ""
          }
        },
        "909d48f4d1b746499129a2ffecd68645": {
          "model_module": "@jupyter-widgets/base",
          "model_name": "LayoutModel",
          "model_module_version": "1.2.0",
          "state": {
            "_model_module": "@jupyter-widgets/base",
            "_model_module_version": "1.2.0",
            "_model_name": "LayoutModel",
            "_view_count": null,
            "_view_module": "@jupyter-widgets/base",
            "_view_module_version": "1.2.0",
            "_view_name": "LayoutView",
            "align_content": null,
            "align_items": null,
            "align_self": null,
            "border": null,
            "bottom": null,
            "display": null,
            "flex": null,
            "flex_flow": null,
            "grid_area": null,
            "grid_auto_columns": null,
            "grid_auto_flow": null,
            "grid_auto_rows": null,
            "grid_column": null,
            "grid_gap": null,
            "grid_row": null,
            "grid_template_areas": null,
            "grid_template_columns": null,
            "grid_template_rows": null,
            "height": null,
            "justify_content": null,
            "justify_items": null,
            "left": null,
            "margin": null,
            "max_height": null,
            "max_width": null,
            "min_height": null,
            "min_width": null,
            "object_fit": null,
            "object_position": null,
            "order": null,
            "overflow": null,
            "overflow_x": null,
            "overflow_y": null,
            "padding": null,
            "right": null,
            "top": null,
            "visibility": null,
            "width": null
          }
        },
        "1ddeeddc33d64296bbbf48499d7d48e9": {
          "model_module": "@jupyter-widgets/controls",
          "model_name": "DescriptionStyleModel",
          "model_module_version": "1.5.0",
          "state": {
            "_model_module": "@jupyter-widgets/controls",
            "_model_module_version": "1.5.0",
            "_model_name": "DescriptionStyleModel",
            "_view_count": null,
            "_view_module": "@jupyter-widgets/base",
            "_view_module_version": "1.2.0",
            "_view_name": "StyleView",
            "description_width": ""
          }
        }
      }
    }
  },
  "cells": [
    {
      "cell_type": "markdown",
      "source": [
        "### Loading Dataset"
      ],
      "metadata": {
        "id": "Tl4u_TFiYKXF"
      }
    },
    {
      "cell_type": "code",
      "execution_count": 4,
      "metadata": {
        "colab": {
          "base_uri": "https://localhost:8080/"
        },
        "id": "CrKbVwaGhik4",
        "outputId": "c8f35a6a-d3bd-4cc7-b061-a82e201ecfab"
      },
      "outputs": [
        {
          "output_type": "stream",
          "name": "stdout",
          "text": [
            "Looking in indexes: https://pypi.org/simple, https://us-python.pkg.dev/colab-wheels/public/simple/\n",
            "Requirement already satisfied: opendatasets in /usr/local/lib/python3.8/dist-packages (0.1.22)\n",
            "Requirement already satisfied: tqdm in /usr/local/lib/python3.8/dist-packages (from opendatasets) (4.64.1)\n",
            "Requirement already satisfied: click in /usr/local/lib/python3.8/dist-packages (from opendatasets) (7.1.2)\n",
            "Requirement already satisfied: kaggle in /usr/local/lib/python3.8/dist-packages (from opendatasets) (1.5.12)\n",
            "Requirement already satisfied: requests in /usr/local/lib/python3.8/dist-packages (from kaggle->opendatasets) (2.25.1)\n",
            "Requirement already satisfied: six>=1.10 in /usr/local/lib/python3.8/dist-packages (from kaggle->opendatasets) (1.15.0)\n",
            "Requirement already satisfied: python-dateutil in /usr/local/lib/python3.8/dist-packages (from kaggle->opendatasets) (2.8.2)\n",
            "Requirement already satisfied: python-slugify in /usr/local/lib/python3.8/dist-packages (from kaggle->opendatasets) (8.0.0)\n",
            "Requirement already satisfied: urllib3 in /usr/local/lib/python3.8/dist-packages (from kaggle->opendatasets) (1.24.3)\n",
            "Requirement already satisfied: certifi in /usr/local/lib/python3.8/dist-packages (from kaggle->opendatasets) (2022.12.7)\n",
            "Requirement already satisfied: text-unidecode>=1.3 in /usr/local/lib/python3.8/dist-packages (from python-slugify->kaggle->opendatasets) (1.3)\n",
            "Requirement already satisfied: chardet<5,>=3.0.2 in /usr/local/lib/python3.8/dist-packages (from requests->kaggle->opendatasets) (4.0.0)\n",
            "Requirement already satisfied: idna<3,>=2.5 in /usr/local/lib/python3.8/dist-packages (from requests->kaggle->opendatasets) (2.10)\n"
          ]
        }
      ],
      "source": [
        "!pip install opendatasets\n",
        "import opendatasets as od\n",
        "import numpy as np\n",
        "import pandas as pd\n",
        "import sys\n",
        "import time\n",
        "import pickle"
      ]
    },
    {
      "cell_type": "code",
      "source": [
        "import re\n",
        "\n",
        "class User:\n",
        "    def __init__(self, id, age, sex, occupation, zip):\n",
        "        self.id = int(id)\n",
        "        self.age = int(age)\n",
        "        self.sex = sex\n",
        "        self.occupation = occupation\n",
        "        self.zip = zip\n",
        "        self.avg_r = 0.0\n",
        "\n",
        "class Item:\n",
        "    def __init__(self, id, title, release_date, video_release_date, imdb_url, \\\n",
        "    unknown, action, adventure, animation, childrens, comedy, crime, documentary, \\\n",
        "    drama, fantasy, film_noir, horror, musical, mystery ,romance, sci_fi, thriller, war, western):\n",
        "        self.id = int(id)\n",
        "        self.title = title\n",
        "        self.release_date = release_date\n",
        "        self.video_release_date = video_release_date\n",
        "        self.imdb_url = imdb_url\n",
        "        self.unknown = int(unknown)\n",
        "        self.action = int(action)\n",
        "        self.adventure = int(adventure)\n",
        "        self.animation = int(animation)\n",
        "        self.childrens = int(childrens)\n",
        "        self.comedy = int(comedy)\n",
        "        self.crime = int(crime)\n",
        "        self.documentary = int(documentary)\n",
        "        self.drama = int(drama)\n",
        "        self.fantasy = int(fantasy)\n",
        "        self.film_noir = int(film_noir)\n",
        "        self.horror = int(horror)\n",
        "        self.musical = int(musical)\n",
        "        self.mystery = int(mystery)\n",
        "        self.romance = int(romance)\n",
        "        self.sci_fi = int(sci_fi)\n",
        "        self.thriller = int(thriller)\n",
        "        self.war = int(war)\n",
        "        self.western = int(western)\n",
        "\n",
        "class Rating:\n",
        "    def __init__(self, user_id, item_id, rating, time):\n",
        "        self.user_id = int(user_id)\n",
        "        self.item_id = int(item_id)\n",
        "        self.rating = int(rating)\n",
        "        self.time = time"
      ],
      "metadata": {
        "id": "cWkzMW_IhkoH"
      },
      "execution_count": 5,
      "outputs": []
    },
    {
      "cell_type": "code",
      "source": [
        "username:\"neginmohtaram\"\n",
        "key:\"a8c673e77557ed6d7bbb29b838c3816c\"\n",
        "od.download(\n",
        "    'https://www.kaggle.com/datasets/prajitdatta/movielens-100k-dataset/ml-100k/u.data')"
      ],
      "metadata": {
        "colab": {
          "base_uri": "https://localhost:8080/"
        },
        "id": "MBd_FC5JhpUF",
        "outputId": "e63db712-ff65-4091-c537-e7b75c73a938"
      },
      "execution_count": 6,
      "outputs": [
        {
          "output_type": "stream",
          "name": "stdout",
          "text": [
            "Skipping, found downloaded files in \"./movielens-100k-dataset\" (use force=True to force download)\n"
          ]
        }
      ]
    },
    {
      "cell_type": "code",
      "source": [
        "def load_users(ratings):\n",
        "    users = pd.unique(ratings['user_id'])\n",
        "    return users"
      ],
      "metadata": {
        "id": "vKCCCMPShwao"
      },
      "execution_count": 7,
      "outputs": []
    },
    {
      "cell_type": "code",
      "source": [
        "def load_ratings(file):\n",
        "    R = []\n",
        "    ratings = pd.read_csv(file, sep=\"\\t\", header=None, encoding='latin-1', names= ['user_id', 'movie_id', 'rating', 'unix_timestamp'])\n",
        "\n",
        "    return  ratings "
      ],
      "metadata": {
        "id": "eeAc4CAmh1L4"
      },
      "execution_count": 8,
      "outputs": []
    },
    {
      "cell_type": "code",
      "source": [
        "def load_items(file):\n",
        "    movies = pd.unique(ratings['movie_id'])\n",
        "    return  movies"
      ],
      "metadata": {
        "id": "39yg4n0Ih3nL"
      },
      "execution_count": 9,
      "outputs": []
    },
    {
      "cell_type": "code",
      "source": [
        "ratings = load_ratings(\"/content/movielens-100k-dataset/ml-100k/ua.base\")\n",
        "ratings_test = load_ratings(\"/content/movielens-100k-dataset/ml-100k/ua.test\")\n",
        "users = load_users(ratings)\n",
        "items = load_items(ratings)\n",
        "n_users = len(users)\n",
        "n_items = len(items)\n",
        "sampleUser = np.random.randint(n_users)\n",
        "sampleMovie = np.random.randint(n_items)\n",
        "train = ratings.pivot(index='user_id', columns='movie_id', values='rating').fillna(0).values\n",
        "test = ratings_test.pivot(index='user_id', columns='movie_id', values='rating').fillna(0).values"
      ],
      "metadata": {
        "id": "chqrKk1Uh5dq"
      },
      "execution_count": 10,
      "outputs": []
    },
    {
      "cell_type": "code",
      "source": [
        "a = []\n",
        "for i in range(test.shape[1]):\n",
        "        for j in range(test.shape[0]):\n",
        "            if test[j][i] != 0:\n",
        "                a.append((j, i))\n",
        "test_data = np.array(a)"
      ],
      "metadata": {
        "id": "7LpnTgluOz8d"
      },
      "execution_count": 71,
      "outputs": []
    },
    {
      "cell_type": "markdown",
      "source": [
        "### Question 3"
      ],
      "metadata": {
        "id": "W4NIgYYfYQgB"
      }
    },
    {
      "cell_type": "code",
      "source": [
        "from tqdm.notebook import tqdm\n",
        "def matrix_factorization(R, P, Q, K, alpha=0.005, lambda_=0.0005, steps=50):\n",
        "\n",
        "    E = R - np.dot(P, Q)\n",
        "\n",
        "    for step in tqdm(range(steps)):\n",
        "        for i in range(len(R)):\n",
        "            for j in range(len(R[i])):\n",
        "                if R[i][j] > 0:\n",
        "                    for k in range(K):\n",
        "                        P[i][k] +=  alpha * (2 * E[i][j] * Q[k][j] - lambda_ * P[i][k])\n",
        "                        Q[k][j] += alpha * (2 * E[i][j] * P[i][k] - lambda_ * Q[k][j])\n",
        "\n",
        "\n",
        "        e = 0\n",
        "        R_hat = np.dot(P,Q)\n",
        "        R_hat[R == 0] = 0\n",
        "        E = R - R_hat\n",
        "        e = np.sum(np.power(E,2))  + np.sum(np.power(Q,2)) + (lambda_/2) * np.sum(np.power(P,2))\n",
        "        if (step) % 10 == 0:  print(\"Error in step \", step,\" = \",e)\n",
        "        if e < 0.001:\n",
        "            break\n",
        "\n",
        "    return P, Q"
      ],
      "metadata": {
        "id": "-xxr-Humh7Yb"
      },
      "execution_count": 50,
      "outputs": []
    },
    {
      "cell_type": "code",
      "source": [
        "K = 5\n",
        "import numpy as np\n",
        "P = np.random.rand(train.shape[0],K)\n",
        "Q = np.random.rand(K,train.shape[1])\n",
        "\n",
        "P_n, Q_n = matrix_factorization(train, P, Q, K, alpha=0.0002, lambda_=0, steps=100)\n",
        "\n",
        "R_hat = np.dot(P_n, Q_n)\n"
      ],
      "metadata": {
        "colab": {
          "base_uri": "https://localhost:8080/",
          "height": 223,
          "referenced_widgets": [
            "c13e90aa143d488982c8f424072a3ace",
            "b3e664b8776c42d3b7dfb75314155f4c",
            "dfde9f6bce174dcb9b3cbed691d45344",
            "fb5ec7becd3e44579d1bcdc8d1894b16",
            "9dd8b8717ab343108285fb33046484eb",
            "88c9be6e15694fd995c9c33c944875bf",
            "ca9a242648d94912aefb5840d3b5cd30",
            "338a4f416d3c459d8519c2a002575b35",
            "59796e93e5e546c69c4e5c84eef757a3",
            "069e98f51e704c7c97a54c67741bbeb2",
            "0118796d971f4f2fad82e1b09934f786"
          ]
        },
        "id": "PmZjgTCRpn2n",
        "outputId": "c47fd07e-6ca8-46b2-8b36-31e880d234cd"
      },
      "execution_count": 88,
      "outputs": [
        {
          "output_type": "display_data",
          "data": {
            "text/plain": [
              "  0%|          | 0/100 [00:00<?, ?it/s]"
            ],
            "application/vnd.jupyter.widget-view+json": {
              "version_major": 2,
              "version_minor": 0,
              "model_id": "c13e90aa143d488982c8f424072a3ace"
            }
          },
          "metadata": {}
        },
        {
          "output_type": "stream",
          "name": "stdout",
          "text": [
            "Error in step  0  =  430779.4843489156\n",
            "Error in step  10  =  111479.10001539809\n",
            "Error in step  20  =  94319.91901676983\n",
            "Error in step  30  =  88479.4840334192\n",
            "Error in step  40  =  85573.40487232569\n",
            "Error in step  50  =  83839.66435068319\n",
            "Error in step  60  =  82684.23286692737\n",
            "Error in step  70  =  81852.30079644795\n",
            "Error in step  80  =  81216.49360670471\n",
            "Error in step  90  =  80706.0765196383\n"
          ]
        }
      ]
    },
    {
      "cell_type": "code",
      "source": [
        "r = np.random.randint(0, len(test_data ), 3)\n",
        "samples = test_data[r]\n",
        "for i in range(samples.shape[0]):\n",
        "  predicted = R_hat[samples[i][0],samples[i][1]]\n",
        "  true = test[samples[i][0],samples[i][1]]\n",
        "  print(\"Predicted label= \",predicted)\n",
        "  print(\"True label= \",true)\n"
      ],
      "metadata": {
        "colab": {
          "base_uri": "https://localhost:8080/"
        },
        "id": "8XXxAToE3GCc",
        "outputId": "511ca74c-6858-43e5-8166-682aacdf8210"
      },
      "execution_count": 93,
      "outputs": [
        {
          "output_type": "stream",
          "name": "stdout",
          "text": [
            "Predicted label=  3.6489829539701155\n",
            "True label=  3.0\n",
            "Predicted label=  2.4594598973129487\n",
            "True label=  2.0\n",
            "Predicted label=  3.163521385913409\n",
            "True label=  3.0\n"
          ]
        }
      ]
    },
    {
      "cell_type": "markdown",
      "source": [
        "### Question 5"
      ],
      "metadata": {
        "id": "F5GTavSlYbWo"
      }
    },
    {
      "cell_type": "code",
      "source": [
        "K = 5\n",
        "import numpy as np\n",
        "P = np.random.rand(train.shape[0],K)\n",
        "Q = np.random.rand(K,train.shape[1])\n",
        "\n",
        "P_n, Q_n = matrix_factorization(train, P, Q, K, alpha=0.0002, lambda_=0.01, steps=100)\n",
        "\n",
        "R_hat2 = np.dot(P_n, Q_n)"
      ],
      "metadata": {
        "colab": {
          "base_uri": "https://localhost:8080/",
          "height": 223,
          "referenced_widgets": [
            "51d55d6243da46468b6525a6c21a12eb",
            "aefc4efecb91470a9d21ff40595cc8fd",
            "b2a50a2fb37e4a018844e911f0c5c075",
            "1beb96d633b44b98bf1c4d7d51153633",
            "4f32ac676f3f4c40b8d88831d1d1a4c0",
            "56f4c4f70dfb4d62a932ce02b4cfd14c",
            "f8dd733881be4fe8900bb0ee105878b8",
            "f2a45321da8c43dfad37199916d84ee6",
            "3e4dcbd5cddf4ff48fe5bb6cb625d590",
            "337c0ad690f34b52bff3107a61665acc",
            "f866a56a414f4809a05c88c6fa5ddef8"
          ]
        },
        "id": "e6Vb348v_VDI",
        "outputId": "af8875be-c7a5-44ee-ee6d-dba218db1a23"
      },
      "execution_count": 96,
      "outputs": [
        {
          "output_type": "display_data",
          "data": {
            "text/plain": [
              "  0%|          | 0/100 [00:00<?, ?it/s]"
            ],
            "application/vnd.jupyter.widget-view+json": {
              "version_major": 2,
              "version_minor": 0,
              "model_id": "51d55d6243da46468b6525a6c21a12eb"
            }
          },
          "metadata": {}
        },
        {
          "output_type": "stream",
          "name": "stdout",
          "text": [
            "Error in step  0  =  428221.2472860305\n",
            "Error in step  10  =  112796.40439199761\n",
            "Error in step  20  =  94576.15288183832\n",
            "Error in step  30  =  88439.34113599236\n",
            "Error in step  40  =  85444.45744926982\n",
            "Error in step  50  =  83684.3510163123\n",
            "Error in step  60  =  82520.63566928817\n",
            "Error in step  70  =  81683.10623364341\n",
            "Error in step  80  =  81038.46471351478\n",
            "Error in step  90  =  80513.45986663675\n"
          ]
        }
      ]
    },
    {
      "cell_type": "code",
      "source": [
        "r = np.random.randint(0, len(test_data ), 3)\n",
        "samples = test_data[r]\n",
        "for i in range(samples.shape[0]):\n",
        "  predicted = R_hat2[samples[i][0],samples[i][1]]\n",
        "  true = test[samples[i][0],samples[i][1]]\n",
        "  print(\"Predicted label= \",predicted)\n",
        "  print(\"True label= \",true)"
      ],
      "metadata": {
        "colab": {
          "base_uri": "https://localhost:8080/"
        },
        "id": "oWFoPuiz_VLl",
        "outputId": "2ee6fb95-c7a2-471b-9b68-c485e6c4a9cf"
      },
      "execution_count": 97,
      "outputs": [
        {
          "output_type": "stream",
          "name": "stdout",
          "text": [
            "Predicted label=  4.403392056966718\n",
            "True label=  5.0\n",
            "Predicted label=  2.914162979849067\n",
            "True label=  2.0\n",
            "Predicted label=  3.408442872003556\n",
            "True label=  3.0\n"
          ]
        }
      ]
    },
    {
      "cell_type": "markdown",
      "source": [
        "### Question 7"
      ],
      "metadata": {
        "id": "6ahaaF9iYfGT"
      }
    },
    {
      "cell_type": "code",
      "source": [
        "def get_lambda(lambda_ , alpha, lambda_b, alpha_b, K ):\n",
        "    lambdas_P = np.full((K,),lambda_[0])\n",
        "    lambdas_Q = np.full((K,),lambda_[1])\n",
        "    alphas_P =  np.full((K,),alpha[0])\n",
        "    alphas_Q =  np.full((K,),alpha[1])\n",
        "\n",
        "    lambdas_P[0] = 0\n",
        "    lambdas_P[1] = lambda_b[0]\n",
        "    lambdas_Q[0] = 0\n",
        "    lambdas_Q[1] = lambda_b[1]\n",
        "    alphas_P[0] = 0\n",
        "    alphas_P[1] = alpha_b[0]\n",
        "    alphas_Q[0] = 0\n",
        "    alphas_Q[1] = alpha_b[1]\n",
        "     \n",
        "    return lambdas_P,lambdas_Q,alphas_P,alphas_Q\n"
      ],
      "metadata": {
        "id": "up0Hu_3c_k1h"
      },
      "execution_count": 98,
      "outputs": []
    },
    {
      "cell_type": "code",
      "source": [
        "from tqdm.notebook import tqdm\n",
        "def matrix_factorization2(R, P, Q, K, alpha_b=(0.0002, 0.0002), alpha =(0.0002, 0.0002),lambda_b=(0.01, 0.01), lambda_=(0.05, 0.05), steps=5000):\n",
        "    lambdas_P,lambdas_Q,alphas_P,alphas_Q = get_lambda(lambda_ , alpha, lambda_b, alpha_b, K )\n",
        "    P[:, 0] = np.ones((P.shape[0],))\n",
        "    Q[:, 1] = np.ones((Q.shape[0],))\n",
        "    E = R - np.dot(P, Q)\n",
        "\n",
        "    for step in tqdm(range(steps)):\n",
        "        for i in range(len(R)):\n",
        "            for j in range(len(R[i])):\n",
        "                if R[i][j] > 0:\n",
        "                    for k in range(K):\n",
        "                        P[i][k] +=  alphas_P[k] * (2 * E[i][j] * Q[k][j] - lambdas_P[k] * P[i][k])\n",
        "                        Q[k][j] += alphas_Q[k] * (2 * E[i][j] * P[i][k] - lambdas_Q[k] * Q[k][j])\n",
        "\n",
        "\n",
        "        e = 0\n",
        "        R_hat = np.dot(P,Q)\n",
        "        R_hat[R == 0] = 0\n",
        "        E = R - R_hat\n",
        "        e = np.sum(np.power(E,2))  + (lambda_[1]/2) * np.sum(np.power(Q,2)) + (lambda_[0]/2) * np.sum(np.power(P,2))\n",
        "        if (step) % 10 == 0:  print(\"Error in step \", step,\" = \",e)\n",
        "        if e < 0.001:\n",
        "            break\n",
        "\n",
        "    return P, Q"
      ],
      "metadata": {
        "id": "41ni5vsA_gtg"
      },
      "execution_count": 99,
      "outputs": []
    },
    {
      "cell_type": "code",
      "source": [
        "P = np.random.rand(train.shape[0],K)\n",
        "Q = np.random.rand(K,train.shape[1])\n",
        "\n",
        "P_n, Q_n = matrix_factorization2(train, P, Q, K, steps=100)\n",
        "\n",
        "R_hat3 = np.dot(P_n, Q_n)"
      ],
      "metadata": {
        "colab": {
          "base_uri": "https://localhost:8080/",
          "height": 223,
          "referenced_widgets": [
            "3f02459c982c465aa1dff964ae2e2299",
            "a7281d7d12e543729eb734d3cd854b57",
            "40cba2e3280841919e9a40f76bfd5fcf",
            "2b4ccedc87204ef49fd4ea2fc69157d6",
            "0c37a44774694832a530b52550a01b1f",
            "955eda8d06bf40d880af2af3d9c5b3ad",
            "ac27b56035dd4694b3024eb8d5a225e6",
            "300e5d91d0ba497c968d53172a0ee438",
            "b9a80a64a44248e99a484af0d1cafe82",
            "f843383b91b44248be12cb36e8057ed1",
            "4aaec882909045c3acbf50d7cded4106"
          ]
        },
        "id": "K8J83RCGDReQ",
        "outputId": "fa1d6ed8-9bdd-4380-e3a7-4265bf394f69"
      },
      "execution_count": 100,
      "outputs": [
        {
          "output_type": "display_data",
          "data": {
            "text/plain": [
              "  0%|          | 0/100 [00:00<?, ?it/s]"
            ],
            "application/vnd.jupyter.widget-view+json": {
              "version_major": 2,
              "version_minor": 0,
              "model_id": "3f02459c982c465aa1dff964ae2e2299"
            }
          },
          "metadata": {}
        },
        {
          "output_type": "stream",
          "name": "stdout",
          "text": [
            "Error in step  0  =  392815.5099359304\n",
            "Error in step  10  =  112033.7910478636\n",
            "Error in step  20  =  91913.50912486578\n",
            "Error in step  30  =  85114.04761344203\n",
            "Error in step  40  =  81827.42812674532\n",
            "Error in step  50  =  79938.19110422494\n",
            "Error in step  60  =  78725.90787387322\n",
            "Error in step  70  =  77884.06604492232\n",
            "Error in step  80  =  77262.53143092238\n",
            "Error in step  90  =  76779.9508617338\n"
          ]
        }
      ]
    },
    {
      "cell_type": "code",
      "source": [
        "r = np.random.randint(0, len(test_data ), 3)\n",
        "samples = test_data[r]\n",
        "for i in range(samples.shape[0]):\n",
        "  predicted = R_hat3[samples[i][0],samples[i][1]]\n",
        "  true = test[samples[i][0],samples[i][1]]\n",
        "  print(\"Predicted label= \",predicted)\n",
        "  print(\"True label= \",true)"
      ],
      "metadata": {
        "colab": {
          "base_uri": "https://localhost:8080/"
        },
        "id": "tBxEgu5VWD6r",
        "outputId": "497d317f-70ad-4a5b-ef3d-8b38fe19f547"
      },
      "execution_count": 105,
      "outputs": [
        {
          "output_type": "stream",
          "name": "stdout",
          "text": [
            "Predicted label=  4.581264980874014\n",
            "True label=  4.0\n",
            "Predicted label=  3.859401755037764\n",
            "True label=  5.0\n",
            "Predicted label=  4.746401920814712\n",
            "True label=  5.0\n"
          ]
        }
      ]
    },
    {
      "cell_type": "markdown",
      "source": [
        "### Question 8"
      ],
      "metadata": {
        "id": "Kq-7RxCLYipS"
      }
    },
    {
      "cell_type": "code",
      "source": [
        "def give_parameter(alpha_b , alpha ,lambda_b ,lambda_, R ,K):\n",
        "      if alpha_b is None:\n",
        "          ps = [0.0002 for _ in range(7)]\n",
        "      else:\n",
        "          ps = alpha_b\n",
        "      alpha_b = (ps[0] + ps[1] / np.log(R.shape[0])) + (ps[2] / np.sqrt(R.shape[0]) + ps[3] / R.shape[0] +ps[4] / np.log(R.shape[1])) + (ps[5] / np.sqrt(R.shape[1]) + ps[6] / R.shape[1])\n",
        "      alpha_b = np.full((K,),alpha_b )\n",
        "\n",
        "      if alpha is None:\n",
        "          ps  = [0.0002 for _ in range(7)]\n",
        "      else:\n",
        "          ps = alpha\n",
        "      alpha = (ps[0] + ps[1] / np.log(R.shape[0])) + (ps[2] / np.sqrt(R.shape[0]) + ps[3] / R.shape[0] +ps[4] / np.log(R.shape[1])) + (ps[5] / np.sqrt(R.shape[1]) + ps[6] / R.shape[1])\n",
        "      alpha = np.full((K,),alpha)\n",
        "\n",
        "      if lambda_b is None:\n",
        "          ps = [0.0005 for _ in range(7)]\n",
        "          \n",
        "      else:\n",
        "          ps  = lambda_b\n",
        "      lambda_b = (ps[0] + ps[1] / np.log(R.shape[0])) + (ps[2] / np.sqrt(R.shape[0]) + ps[3] / R.shape[0] +ps[4] / np.log(R.shape[1])) + (ps[5] / np.sqrt(R.shape[1]) + ps[6] / R.shape[1])\n",
        "      lambda_b = np.full((K,),lambda_b)\n",
        "\n",
        "      if lambda_ is None:\n",
        "          ps = [0.0005 for _ in range(7)]\n",
        "      else:\n",
        "          ps = lambda_\n",
        "      lambda_ = (ps[0] + ps[1] / np.log(R.shape[0])) + (ps[2] / np.sqrt(R.shape[0]) + ps[3] / R.shape[0] +ps[4] / np.log(R.shape[1])) + (ps[5] / np.sqrt(R.shape[1]) + ps[6] / R.shape[1])\n",
        "      lambda_ = np.full((K,),lambda_)\n",
        "\n",
        "      return alpha_b , alpha ,lambda_b ,lambda_"
      ],
      "metadata": {
        "id": "JyTcE0wJGqL5"
      },
      "execution_count": 106,
      "outputs": []
    },
    {
      "cell_type": "code",
      "source": [
        "from tqdm.notebook import tqdm\n",
        "def matrix_factorization3(R, P, Q, K, alpha_b=None, alpha=None, lambda_b=None, lambda_=None, steps=5000):\n",
        "    alpha_b , alpha ,lambda_b ,lambda_ = give_parameter(alpha_b , alpha ,lambda_b ,lambda_, R , K)\n",
        "    lambdas_P,lambdas_Q,alphas_P,alphas_Q = get_lambda(lambda_ , alpha, lambda_b, alpha_b, K )\n",
        "    P[:, 0] = np.ones((P.shape[0],))\n",
        "    Q[:, 1] = np.ones((Q.shape[0],))\n",
        "    E = R - np.dot(P, Q)\n",
        "\n",
        "    for step in tqdm(range(steps)):\n",
        "        for i in range(len(R)):\n",
        "            for j in range(len(R[i])):\n",
        "                if R[i][j] > 0:\n",
        "                    for k in range(K):\n",
        "                        P[i][k] +=  alphas_P[k] * (2 * E[i][j] * Q[k][j] - lambdas_P[k] * P[i][k])\n",
        "                        Q[k][j] += alphas_Q[k] * (2 * E[i][j] * P[i][k] - lambdas_Q[k] * Q[k][j])\n",
        "\n",
        "\n",
        "        e = 0\n",
        "        R_hat = np.dot(P,Q)\n",
        "        R_hat[R == 0] = 0\n",
        "        E = R - R_hat\n",
        "        e = np.sum(np.power(E,2))  + (lambda_[1]/2) * np.sum(np.power(Q,2)) + (lambda_[0]/2) * np.sum(np.power(P,2))\n",
        "        if (step) % 10 == 0:  print(\"Error in step \", step,\" = \",e)\n",
        "        if e < 0.001:\n",
        "            break\n",
        "\n",
        "    return P, Q"
      ],
      "metadata": {
        "id": "nn8Di6x5JASR"
      },
      "execution_count": 107,
      "outputs": []
    },
    {
      "cell_type": "code",
      "source": [
        "P = np.random.rand(train.shape[0],K)\n",
        "Q = np.random.rand(K,train.shape[1])\n",
        "\n",
        "P_n, Q_n = matrix_factorization3(train, P, Q, K, steps = 100)\n",
        "\n",
        "R_hat4 = np.dot(P_n, Q_n)\n"
      ],
      "metadata": {
        "colab": {
          "base_uri": "https://localhost:8080/",
          "height": 223,
          "referenced_widgets": [
            "7a9bf0676a514bafb66764d44d74d584",
            "19549b4ff0b449e3b2eaa900cd78fa1e",
            "b57ebd8f043247beafe192cc9cad3f8b",
            "cbc5692258ca4fa49f43e233d92211af",
            "ca2fe2c0fd7d402e9e8c15ce94b5f859",
            "95fabd9f0fc04fc5bbbfadb7ec56cb2c",
            "09e85a4b40ab4cc4a1872dc518eedbee",
            "895a50d4179d411590ce9027f1df9921",
            "f4f8191393894f058cb888bfa3f16a06",
            "909d48f4d1b746499129a2ffecd68645",
            "1ddeeddc33d64296bbbf48499d7d48e9"
          ]
        },
        "id": "zPPgsliXJ4zN",
        "outputId": "b3d2f30d-f3a1-4e54-bf61-faebc48e2ca9"
      },
      "execution_count": 108,
      "outputs": [
        {
          "output_type": "display_data",
          "data": {
            "text/plain": [
              "  0%|          | 0/100 [00:00<?, ?it/s]"
            ],
            "application/vnd.jupyter.widget-view+json": {
              "version_major": 2,
              "version_minor": 0,
              "model_id": "7a9bf0676a514bafb66764d44d74d584"
            }
          },
          "metadata": {}
        },
        {
          "output_type": "stream",
          "name": "stdout",
          "text": [
            "Error in step  0  =  370874.88346021925\n",
            "Error in step  10  =  100093.51086230252\n",
            "Error in step  20  =  86183.44827801043\n",
            "Error in step  30  =  81547.70104425192\n",
            "Error in step  40  =  79259.40868699056\n",
            "Error in step  50  =  77887.23722678467\n",
            "Error in step  60  =  76954.05384520529\n",
            "Error in step  70  =  76256.20473021966\n",
            "Error in step  80  =  75691.88720273589\n",
            "Error in step  90  =  75204.20655836441\n"
          ]
        }
      ]
    },
    {
      "cell_type": "code",
      "source": [
        "r = np.random.randint(0, len(test_data ), 3)\n",
        "samples = test_data[r]\n",
        "for i in range(samples.shape[0]):\n",
        "  predicted = R_hat4[samples[i][0],samples[i][1]]\n",
        "  true = test[samples[i][0],samples[i][1]]\n",
        "  print(\"Predicted label= \",predicted)\n",
        "  print(\"True label= \",true)"
      ],
      "metadata": {
        "colab": {
          "base_uri": "https://localhost:8080/"
        },
        "id": "udrKSsr_Ww-u",
        "outputId": "22eba8bd-356a-4e25-84ec-b14f4e7786ed"
      },
      "execution_count": 114,
      "outputs": [
        {
          "output_type": "stream",
          "name": "stdout",
          "text": [
            "Predicted label=  3.0664966272680303\n",
            "True label=  4.0\n",
            "Predicted label=  2.34010065687722\n",
            "True label=  2.0\n",
            "Predicted label=  3.1722371269138696\n",
            "True label=  3.0\n"
          ]
        }
      ]
    }
  ]
}